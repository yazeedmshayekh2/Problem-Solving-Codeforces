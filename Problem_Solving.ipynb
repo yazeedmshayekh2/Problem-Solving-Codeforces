{
  "nbformat": 4,
  "nbformat_minor": 0,
  "metadata": {
    "colab": {
      "provenance": [],
      "collapsed_sections": [
        "lWovokg-vich",
        "CFwoD0lIv074",
        "Xpp5BrB9wIIH",
        "6E0lN164wQfv",
        "QZWIRoRewakQ",
        "lZFgVyGMwhk1",
        "A3gqcEUowttZ",
        "tJRRb3W1wzwv",
        "tW-VnaD7w5SC",
        "FR8EB-ohxG0G",
        "X4YKyS83xLyO",
        "hPw_cOcfxQ4u",
        "2-0NOM7wxVwW"
      ]
    },
    "kernelspec": {
      "name": "python3",
      "display_name": "Python 3"
    },
    "language_info": {
      "name": "python"
    }
  },
  "cells": [
    {
      "cell_type": "markdown",
      "source": [
        "# Vanya and Fence\n",
        "\n",
        "[CF677-D2-A](\"http://codeforces.com/contest/677/problem/A\")"
      ],
      "metadata": {
        "id": "lWovokg-vich"
      }
    },
    {
      "cell_type": "code",
      "source": [
        "n, h = map(int, input().split())\n",
        "a = list(map(int, input().split()))\n",
        "w = 0\n",
        "\n",
        "if n>=1 and n<=1000 and h>=1 and h<=1000 and len(a) == n:\n",
        "\n",
        "    for a_i in a:\n",
        "\n",
        "        if a_i <= h:\n",
        "            w += 1\n",
        "\n",
        "        elif a_i > h:\n",
        "            w += 2\n",
        "\n",
        "print(w)"
      ],
      "metadata": {
        "id": "xlIYBQo369HD"
      },
      "execution_count": null,
      "outputs": []
    },
    {
      "cell_type": "markdown",
      "source": [
        "# Anton and Danik\n",
        "\n",
        "[CF734-D2-A](http://codeforces.com/contest/734/problem/A)"
      ],
      "metadata": {
        "id": "CFwoD0lIv074"
      }
    },
    {
      "cell_type": "code",
      "source": [
        "n = int(input())\n",
        "s = input()\n",
        "\n",
        "a = 0\n",
        "d = 0\n",
        "\n",
        "if n >= 1 and n <= 100000 and len(s) == n:\n",
        "    for i in s:\n",
        "        if i == \"A\":\n",
        "            a+=1\n",
        "        elif i == \"D\":\n",
        "            d+=1\n",
        "    if a > d:\n",
        "        print(\"Anton\")\n",
        "    elif a < d:\n",
        "        print(\"Danik\")\n",
        "    else:\n",
        "        print(\"Friendship\")"
      ],
      "metadata": {
        "colab": {
          "base_uri": "https://localhost:8080/"
        },
        "id": "xqkUkJgh7JCb",
        "outputId": "541771f7-9998-4cf1-cb79-5b10f385432c"
      },
      "execution_count": null,
      "outputs": [
        {
          "output_type": "stream",
          "name": "stdout",
          "text": [
            "6\n",
            "DADADA\n",
            "Friendship\n"
          ]
        }
      ]
    },
    {
      "cell_type": "markdown",
      "source": [
        "# Bear and Big Brother\n",
        "\n",
        "[CF791-D2-A](\"codeforces.com/contest/791/problem/A\")"
      ],
      "metadata": {
        "id": "Xpp5BrB9wIIH"
      }
    },
    {
      "cell_type": "code",
      "source": [
        "a, b = map(int, (input().split()))\n",
        "\n",
        "y=0\n",
        "\n",
        "if a <= 10 and a>=1 and b<=10 and a>=1:\n",
        "    while a<=b:\n",
        "        y+=1\n",
        "        a = a*3\n",
        "        b = b*2\n",
        "\n",
        "print(y)"
      ],
      "metadata": {
        "colab": {
          "base_uri": "https://localhost:8080/"
        },
        "id": "eFdFq4nSBixM",
        "outputId": "071b876a-6c90-4581-bd60-c890695feecb"
      },
      "execution_count": null,
      "outputs": [
        {
          "output_type": "stream",
          "name": "stdout",
          "text": [
            "1 1\n",
            "1\n"
          ]
        }
      ]
    },
    {
      "cell_type": "markdown",
      "source": [
        "# Team\n",
        "\n",
        "[CF231-D2-A](\"http://codeforces.com/contest/231/problem/A\")"
      ],
      "metadata": {
        "id": "6E0lN164wQfv"
      }
    },
    {
      "cell_type": "code",
      "source": [
        "n = int(input())\n",
        "lines = []\n",
        "for line in range(n):\n",
        "    lines.append(list(map(int, input().split())))\n",
        "\n",
        "n_problems = 0\n",
        "\n",
        "if n >= 1 and n <= 1000 and n == len(lines):\n",
        "    for line in lines:\n",
        "        sum = 0\n",
        "        for i in line:\n",
        "            if i == 1:\n",
        "                sum+=1\n",
        "            else:\n",
        "                pass\n",
        "        if sum >= 2:\n",
        "            n_problems+=1\n",
        "\n",
        "print(n_problems)"
      ],
      "metadata": {
        "colab": {
          "base_uri": "https://localhost:8080/"
        },
        "id": "z9-kBpquEsNV",
        "outputId": "c6e34a75-733b-4dfb-fcde-5ae64595bfff"
      },
      "execution_count": null,
      "outputs": [
        {
          "output_type": "stream",
          "name": "stdout",
          "text": [
            "3\n",
            "1 1 1\n",
            "1 0 1\n",
            "1 0 0\n",
            "2\n"
          ]
        }
      ]
    },
    {
      "cell_type": "markdown",
      "source": [
        "# Beautiful Matrix\n",
        "\n",
        "[CF263-D2-A](http://codeforces.com/contest/263/problem/A)"
      ],
      "metadata": {
        "id": "QZWIRoRewakQ"
      }
    },
    {
      "cell_type": "code",
      "source": [
        "zero_list = []\n",
        "for i in range(5):\n",
        "    zero_list.append(list(map(int, input().split())))\n",
        "\n",
        "for i in range(5):\n",
        "    for j in range(5):\n",
        "        if zero_list[i][j] == 1:\n",
        "            row_of_one,column_of_one = i,j\n",
        "\n",
        "n_moves = 0\n",
        "\n",
        "while row_of_one!=2:\n",
        "    if row_of_one < 2:\n",
        "        zero_list[row_of_one][column_of_one]=0\n",
        "        zero_list[row_of_one+1][column_of_one]=1\n",
        "        row_of_one+=1\n",
        "\n",
        "    elif row_of_one > 2:\n",
        "        zero_list[row_of_one][column_of_one] = 0\n",
        "        zero_list[row_of_one-1][column_of_one] = 1\n",
        "        row_of_one-=1\n",
        "\n",
        "    n_moves+=1\n",
        "\n",
        "while column_of_one!=2:\n",
        "    if column_of_one < 2:\n",
        "        zero_list[row_of_one][column_of_one]=0\n",
        "        zero_list[row_of_one][column_of_one+1]=1\n",
        "        column_of_one+=1\n",
        "\n",
        "    elif column_of_one > 2:\n",
        "        zero_list[row_of_one][column_of_one] = 0\n",
        "        zero_list[row_of_one][column_of_one-1] = 1\n",
        "        column_of_one-=1\n",
        "\n",
        "    n_moves+=1\n",
        "\n",
        "print(n_moves)"
      ],
      "metadata": {
        "colab": {
          "base_uri": "https://localhost:8080/"
        },
        "id": "waXy_yCLwx3r",
        "outputId": "655dd971-bff9-47b1-9f08-9b00ecdf4a3d"
      },
      "execution_count": null,
      "outputs": [
        {
          "output_type": "stream",
          "name": "stdout",
          "text": [
            "0 0 0 0 0\n",
            "0 0 0 0 0\n",
            "0 0 0 0 0\n",
            "0 0 0 0 0\n",
            "0 0 0 0 1\n",
            "4\n"
          ]
        }
      ]
    },
    {
      "cell_type": "markdown",
      "source": [
        "# Gravity Flip\n",
        "\n",
        "[CF405-D2-A](http://codeforces.com/contest/405/problem/A)"
      ],
      "metadata": {
        "id": "lZFgVyGMwhk1"
      }
    },
    {
      "cell_type": "code",
      "source": [
        "n = int(input())\n",
        "columns = list(map(int, input().split()))\n",
        "step = 0\n",
        "for i in range(n-1, -1, -1):\n",
        "    step += 1\n",
        "    for j in range(n-step, -1, -1):\n",
        "        if columns[i] < columns[j]:\n",
        "            temp = columns[i]\n",
        "            difference = columns[j] - columns[i]\n",
        "            columns[i] += difference\n",
        "            columns[j] = temp\n",
        "\n",
        "for i in range(len(columns)):\n",
        "    print(columns[i], end=' ')"
      ],
      "metadata": {
        "id": "e6rs1Vi2xFmc"
      },
      "execution_count": null,
      "outputs": []
    },
    {
      "cell_type": "markdown",
      "source": [
        "# Petya and Strings\n",
        "\n",
        "[CF112-D2-A](http://codeforces.com/contest/112/problem/A)"
      ],
      "metadata": {
        "id": "A3gqcEUowttZ"
      }
    },
    {
      "cell_type": "code",
      "source": [
        "S_1 = input()\n",
        "S_2 = input()\n",
        "\n",
        "S_1 = S_1.lower()\n",
        "S_2 = S_2.lower()\n",
        "\n",
        "if len(S_1)>=1 and len(S_1)<=100:\n",
        "\n",
        "    for i in range(len(S_1)):\n",
        "\n",
        "        if S_1[i] == S_2[i] and i == len(S_1)-1:\n",
        "            print(0)\n",
        "\n",
        "        elif S_1[i] == S_2[i]:\n",
        "            pass\n",
        "\n",
        "        elif S_1[i] != S_2[i]:\n",
        "\n",
        "            if ord(S_1[i]) > ord(S_2[i]):\n",
        "                print(1)\n",
        "                break\n",
        "\n",
        "            elif ord(S_1[i]) < ord(S_2[i]):\n",
        "                print(-1)\n",
        "                break"
      ],
      "metadata": {
        "colab": {
          "base_uri": "https://localhost:8080/"
        },
        "id": "H_LgNQwG2fFA",
        "outputId": "f146a697-bbdc-4a90-90ea-e9125258d8fd"
      },
      "execution_count": null,
      "outputs": [
        {
          "output_type": "stream",
          "name": "stdout",
          "text": [
            "aaaa\n",
            "aaaA\n",
            "0\n"
          ]
        }
      ]
    },
    {
      "cell_type": "markdown",
      "source": [
        "# Boy or Girl\n",
        "\n",
        "[CF236-D2-A](http://codeforces.com/contest/236/problem/A)"
      ],
      "metadata": {
        "id": "tJRRb3W1wzwv"
      }
    },
    {
      "cell_type": "code",
      "source": [
        "s = input()\n",
        "\n",
        "l = []\n",
        "\n",
        "for i in s:\n",
        "\n",
        "    if i in l:\n",
        "        pass\n",
        "    else:\n",
        "        l.append(i)\n",
        "\n",
        "if len(l)%2==0:\n",
        "    print(\"CHAT WITH HER!\")\n",
        "else:\n",
        "    print(\"IGNORE HIM!\")"
      ],
      "metadata": {
        "colab": {
          "base_uri": "https://localhost:8080/"
        },
        "id": "_BtnZa8G3WOj",
        "outputId": "0817e2b3-dcec-4b5b-895a-fcea436278f0"
      },
      "execution_count": null,
      "outputs": [
        {
          "output_type": "stream",
          "name": "stdout",
          "text": [
            "sevenkplus\n",
            "CHAT WITH HER!\n"
          ]
        }
      ]
    },
    {
      "cell_type": "markdown",
      "source": [
        "# Word\n",
        "\n",
        "[CF59-D2-A](http://codeforces.com/contest/59/problem/A)"
      ],
      "metadata": {
        "id": "tW-VnaD7w5SC"
      }
    },
    {
      "cell_type": "code",
      "source": [
        "s = input()\n",
        "\n",
        "lowercase = 0\n",
        "uppercase = 0\n",
        "\n",
        "for i in range(len(s)):\n",
        "\n",
        "    if s[i] == s.lower()[i]:\n",
        "        lowercase+=1\n",
        "    else:\n",
        "        uppercase+=1\n",
        "\n",
        "if lowercase >= uppercase:\n",
        "    print(s.lower())\n",
        "elif lowercase < uppercase:\n",
        "    print(s.upper())"
      ],
      "metadata": {
        "colab": {
          "base_uri": "https://localhost:8080/"
        },
        "id": "pLWfj30w5R7p",
        "outputId": "07d9108e-b9ad-46e3-94e5-428d66b996a6"
      },
      "execution_count": null,
      "outputs": [
        {
          "output_type": "stream",
          "name": "stdout",
          "text": [
            "maTRIx\n",
            "matrix\n"
          ]
        }
      ]
    },
    {
      "cell_type": "markdown",
      "source": [
        "# Word Capitalization\n",
        "\n",
        "[CF281-D2-A](http://codeforces.com/contest/281/problem/A)"
      ],
      "metadata": {
        "id": "FR8EB-ohxG0G"
      }
    },
    {
      "cell_type": "code",
      "source": [
        "s = input()\n",
        "\n",
        "print(s[0].upper() + s[1:])"
      ],
      "metadata": {
        "colab": {
          "base_uri": "https://localhost:8080/"
        },
        "id": "KMX7zuw6Bz5X",
        "outputId": "341bc728-5523-414f-f58c-c743801c88de"
      },
      "execution_count": null,
      "outputs": [
        {
          "output_type": "stream",
          "name": "stdout",
          "text": [
            "konjac\n",
            "Konjac\n"
          ]
        }
      ]
    },
    {
      "cell_type": "markdown",
      "source": [
        "# Magnets\n",
        "\n",
        "[CF344-D2-A](http://codeforces.com/contest/344/problem/A)"
      ],
      "metadata": {
        "id": "X4YKyS83xLyO"
      }
    },
    {
      "cell_type": "code",
      "source": [
        "list_of_magnets = []\n",
        "n = int(input())\n",
        "\n",
        "n_groups = 1\n",
        "first_part = int(input())\n",
        "second_part = first_part\n",
        "\n",
        "for i in range(n):\n",
        "    if first_part != second_part:\n",
        "            n_groups+=1\n",
        "\n",
        "    first_part = second_part\n",
        "    if i < n-1:\n",
        "        second_part = int(input())\n",
        "    else:\n",
        "        second_part = first_part\n",
        "\n",
        "print(n_groups)"
      ],
      "metadata": {
        "id": "b-7X7bJlLhAL",
        "colab": {
          "base_uri": "https://localhost:8080/"
        },
        "outputId": "7dcc682e-b304-4e6a-f00e-aa0ecb360c20"
      },
      "execution_count": null,
      "outputs": [
        {
          "output_type": "stream",
          "name": "stdout",
          "text": [
            "2\n",
            "10\n",
            "01\n",
            "2\n"
          ]
        }
      ]
    },
    {
      "cell_type": "markdown",
      "source": [
        "# Sereja and Dima\n",
        "\n",
        "[CF381-D2-A](http://codeforces.com/contest/381/problem/A)"
      ],
      "metadata": {
        "id": "hPw_cOcfxQ4u"
      }
    },
    {
      "cell_type": "code",
      "source": [
        "n = int(input())\n",
        "\n",
        "lines = list(map(int, input().split()))\n",
        "S = 0\n",
        "D = 0\n",
        "length = n-1\n",
        "\n",
        "for i in range(n):\n",
        "\n",
        "    if lines == []:\n",
        "        break\n",
        "\n",
        "    else:\n",
        "        if i%2==0:\n",
        "            if lines[0]>lines[-1]:\n",
        "                S+=lines[0]\n",
        "                lines.pop(0)\n",
        "                length-=1\n",
        "\n",
        "            else:\n",
        "                S+=lines[-1]\n",
        "                lines.pop(length)\n",
        "                length-=1\n",
        "\n",
        "        else:\n",
        "\n",
        "            if lines[0]>lines[-1]:\n",
        "                D+=lines[0]\n",
        "                lines.pop(0)\n",
        "                length-=1\n",
        "\n",
        "            else:\n",
        "                D+=lines[-1]\n",
        "                lines.pop(length)\n",
        "                length-=1\n",
        "print(S, D)"
      ],
      "metadata": {
        "colab": {
          "base_uri": "https://localhost:8080/"
        },
        "id": "WZfjdSRcQsf1",
        "outputId": "2bcc28f1-38d5-48fd-e027-2eda4a33f39d"
      },
      "execution_count": null,
      "outputs": [
        {
          "output_type": "stream",
          "name": "stdout",
          "text": [
            "7\n",
            "1 2 3 4 5 6 7\n",
            "16 12\n"
          ]
        }
      ]
    },
    {
      "cell_type": "markdown",
      "source": [
        "# Stones on the Table\n",
        "\n",
        "[CF266-D2-A](http://codeforces.com/contest/266/problem/A)"
      ],
      "metadata": {
        "id": "2-0NOM7wxVwW"
      }
    },
    {
      "cell_type": "code",
      "source": [
        "n = int(input())\n",
        "\n",
        "list_of_stones = \"\".join(input().split())\n",
        "\n",
        "sum = 0\n",
        "\n",
        "for i in range(1, len(list_of_stones)):\n",
        "    if list_of_stones[i] == list_of_stones[i-1]:\n",
        "        sum+=1\n",
        "        list_of_stones.replace(list_of_stones[i-1], '')\n",
        "\n",
        "    else:\n",
        "        continue\n",
        "\n",
        "print(sum)"
      ],
      "metadata": {
        "id": "S52yKWEZbdgL",
        "colab": {
          "base_uri": "https://localhost:8080/"
        },
        "outputId": "4828c3f4-da64-4696-8cb1-f9e0f93d624b"
      },
      "execution_count": null,
      "outputs": [
        {
          "name": "stdout",
          "output_type": "stream",
          "text": [
            "5\n",
            "RRRRR\n"
          ]
        },
        {
          "output_type": "execute_result",
          "data": {
            "text/plain": [
              "4"
            ]
          },
          "metadata": {},
          "execution_count": 13
        }
      ]
    },
    {
      "cell_type": "markdown",
      "source": [
        "# Police Recruits"
      ],
      "metadata": {
        "id": "pmUNvQEeF3YY"
      }
    },
    {
      "cell_type": "code",
      "source": [
        "n = int(input())\n",
        "\n",
        "l = list(map(int, input().split()))\n",
        "\n",
        "hired = 0\n",
        "\n",
        "no_officers = 0\n",
        "\n",
        "for i in l:\n",
        "\n",
        "    if i > 0:\n",
        "        hired += i\n",
        "        continue\n",
        "    elif hired > 0 and i < 0:\n",
        "        hired-=1\n",
        "        continue\n",
        "    elif i < 0:\n",
        "        no_officers+=1\n",
        "\n",
        "print(no_officers)"
      ],
      "metadata": {
        "id": "ljp1uLutHfhy",
        "colab": {
          "base_uri": "https://localhost:8080/"
        },
        "outputId": "0fed4a4c-2575-47dd-8fe5-3227804ddf9c"
      },
      "execution_count": null,
      "outputs": [
        {
          "output_type": "stream",
          "name": "stdout",
          "text": [
            "11\n",
            "-1 -1 2 -1 -1 -1 -1 -1 -1 -1 -1\n",
            "8\n"
          ]
        }
      ]
    },
    {
      "cell_type": "markdown",
      "source": [
        "# Black Square"
      ],
      "metadata": {
        "id": "Gs2HGJ9jVlfm"
      }
    },
    {
      "cell_type": "code",
      "source": [
        "l_1 = list(map(int, input().split()))\n",
        "l_2 = input()\n",
        "sum = 0\n",
        "\n",
        "for i in l_2:\n",
        "    sum+=l_1[int(i)-1]\n",
        "\n",
        "print(sum)"
      ],
      "metadata": {
        "id": "atbAeRjyI73R",
        "colab": {
          "base_uri": "https://localhost:8080/"
        },
        "outputId": "b7d815ef-1e6a-4d7a-94b4-838df7c75aae"
      },
      "execution_count": null,
      "outputs": [
        {
          "output_type": "stream",
          "name": "stdout",
          "text": [
            "1 5 3 2\n",
            "11221\n",
            "13\n"
          ]
        }
      ]
    },
    {
      "cell_type": "markdown",
      "source": [
        "# Night at the Museum"
      ],
      "metadata": {
        "id": "OLI0RlCnWT8m"
      }
    },
    {
      "cell_type": "code",
      "source": [
        "s = input()\n",
        "\n",
        "sum = ord(s[0]) - ord('a')\n",
        "current_pos = s[0]\n",
        "\n",
        "if sum > abs(abs(ord(s[0]) - ord('a')) - 26):\n",
        "    sum = abs(abs(ord(s[0]) - ord('a')) - 26)\n",
        "else:\n",
        "    pass\n",
        "\n",
        "for i in s[1:]:\n",
        "\n",
        "    x = abs(ord(i) - ord(current_pos))\n",
        "    y = abs(abs(ord(i) - ord(current_pos)) - 26)\n",
        "\n",
        "    if x >= y:\n",
        "        sum += y\n",
        "    else:\n",
        "        sum += x\n",
        "\n",
        "    current_pos = i\n",
        "\n",
        "print(sum)"
      ],
      "metadata": {
        "colab": {
          "base_uri": "https://localhost:8080/"
        },
        "id": "dNyd2O0phon4",
        "outputId": "6d52f2a9-ef17-466b-84ea-b60abe2fe711"
      },
      "execution_count": null,
      "outputs": [
        {
          "output_type": "stream",
          "name": "stdout",
          "text": [
            "map\n",
            "35\n"
          ]
        }
      ]
    },
    {
      "cell_type": "markdown",
      "source": [
        "# Games"
      ],
      "metadata": {
        "id": "ll7Vndca2m2P"
      }
    },
    {
      "cell_type": "code",
      "source": [
        "import collections\n",
        "\n",
        "n = int(input())\n",
        "dict_1 = {}\n",
        "l = []\n",
        "sum = 0\n",
        "\n",
        "for i in range(n):\n",
        "\n",
        "    dict_1[i] = list(map(int, input().split()))\n",
        "\n",
        "    l.append(dict_1[i][1])\n",
        "\n",
        "for i, k in dict_1.items():\n",
        "\n",
        "    sum += (l[:i]+l[i+1:]).count(k[0])\n",
        "\n",
        "print(sum)"
      ],
      "metadata": {
        "id": "aXhT62Oj2n7s",
        "colab": {
          "base_uri": "https://localhost:8080/"
        },
        "outputId": "1cfb4711-5a9a-477c-e286-4659c4c832f8"
      },
      "execution_count": null,
      "outputs": [
        {
          "output_type": "stream",
          "name": "stdout",
          "text": [
            "2\n",
            "1 2\n",
            "1 2\n",
            "0\n"
          ]
        }
      ]
    },
    {
      "cell_type": "markdown",
      "source": [
        "# Buy a Shovel"
      ],
      "metadata": {
        "id": "RYPQPuv6_ba9"
      }
    },
    {
      "cell_type": "code",
      "source": [
        "n, r= map(int, input().split())\n",
        "\n",
        "n_copy = n\n",
        "value = 1\n",
        "\n",
        "while n%10 != r:\n",
        "    if n%10 == 0:\n",
        "        break\n",
        "\n",
        "    value +=1\n",
        "    n = n_copy*value\n",
        "\n",
        "print(value)"
      ],
      "metadata": {
        "colab": {
          "base_uri": "https://localhost:8080/"
        },
        "id": "hsasOFku_eGa",
        "outputId": "23a4cc7d-5dc9-491e-f43e-9660b935ac71"
      },
      "execution_count": null,
      "outputs": [
        {
          "output_type": "stream",
          "name": "stdout",
          "text": [
            "15 2\n",
            "2\n"
          ]
        }
      ]
    },
    {
      "cell_type": "markdown",
      "source": [
        "# Colorful Stones (Simplified Edition)"
      ],
      "metadata": {
        "id": "Pb6gbNuOI7ms"
      }
    },
    {
      "cell_type": "code",
      "source": [
        "s = input()\n",
        "t = input()\n",
        "\n",
        "pos = 0\n",
        "\n",
        "for i in range(len(t)):\n",
        "\n",
        "    if t[i] == s[pos]:\n",
        "        pos+=1\n",
        "    else:\n",
        "        continue\n",
        "\n",
        "print(pos + 1)"
      ],
      "metadata": {
        "colab": {
          "base_uri": "https://localhost:8080/"
        },
        "id": "_rJE3h8FFvM4",
        "outputId": "e3a44f54-446a-49ba-a5ae-de54d9c3cdbf"
      },
      "execution_count": null,
      "outputs": [
        {
          "output_type": "stream",
          "name": "stdout",
          "text": [
            "BRRBGBRGRBGRGRRGGBGBGBRGBRGRGGGRBRRRBRBBBGRRRGGBBB\n",
            "BBRBGGRGRGBBBRBGRBRBBBBRBRRRBGBBGBBRRBBGGRBRRBRGRB\n",
            "15\n"
          ]
        }
      ]
    },
    {
      "cell_type": "markdown",
      "source": [
        "# Die Roll"
      ],
      "metadata": {
        "id": "AbuDjbvXOBA8"
      }
    },
    {
      "cell_type": "code",
      "source": [
        "from fractions import Fraction\n",
        "\n",
        "y, w= map(int, input().split())\n",
        "\n",
        "max_x_y = max(y,w)\n",
        "\n",
        "if max_x_y == 1:\n",
        "    print(\"1/1\")\n",
        "else:\n",
        "    print(Fraction(6-(max_x_y-1),6))"
      ],
      "metadata": {
        "colab": {
          "base_uri": "https://localhost:8080/"
        },
        "id": "cXiAwRg2ODDo",
        "outputId": "eb9ae648-4e70-4125-81c3-c7596d6c6abe"
      },
      "execution_count": 1,
      "outputs": [
        {
          "output_type": "stream",
          "name": "stdout",
          "text": [
            "4 2\n",
            "1/2\n"
          ]
        }
      ]
    },
    {
      "cell_type": "markdown",
      "source": [
        "# Shaass and Oskols"
      ],
      "metadata": {
        "id": "xLZlPtOqnjMB"
      }
    },
    {
      "cell_type": "code",
      "source": [],
      "metadata": {
        "id": "PlWzii30TgOa"
      },
      "execution_count": null,
      "outputs": []
    }
  ]
}